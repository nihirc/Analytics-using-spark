{
 "cells": [
  {
   "cell_type": "markdown",
   "metadata": {},
   "source": [
    "The log files used in this notebook for learning purpose were downloaded from http://ita.ee.lbl.gov/html/contrib/ClarkNet-HTTP.html and it contains 3,328,587 HTTP requests made between the two weeks period of time from Aug 24 to September 10."
   ]
  },
  {
   "cell_type": "code",
   "execution_count": 1,
   "metadata": {},
   "outputs": [],
   "source": [
    "# Create spark session. \n",
    "from pyspark.sql import SparkSession\n",
    "spark = SparkSession \\\n",
    "    .builder \\\n",
    "    .appName('AnalyzingApacheLogFiles') \\\n",
    "    .config(conf=SparkConf()) \\\n",
    "    .getOrCreate()"
   ]
  },
  {
   "cell_type": "code",
   "execution_count": 2,
   "metadata": {},
   "outputs": [
    {
     "name": "stdout",
     "output_type": "stream",
     "text": [
      "+------------------------------------------------------------------------------------------------------------------+\n",
      "|value                                                                                                             |\n",
      "+------------------------------------------------------------------------------------------------------------------+\n",
      "|204.249.225.59 - - [28/Aug/1995:00:00:34 -0400] \"GET /pub/rmharris/catalogs/dawsocat/intro.html HTTP/1.0\" 200 3542|\n",
      "|access9.accsyst.com - - [28/Aug/1995:00:00:35 -0400] \"GET /pub/robert/past99.gif HTTP/1.0\" 200 4993               |\n",
      "|access9.accsyst.com - - [28/Aug/1995:00:00:35 -0400] \"GET /pub/robert/curr99.gif HTTP/1.0\" 200 5836               |\n",
      "|world.std.com - - [28/Aug/1995:00:00:36 -0400] \"GET /pub/atomicbk/catalog/sleazbk.html HTTP/1.0\" 200 18338        |\n",
      "|cssu24.cs.ust.hk - - [28/Aug/1995:00:00:36 -0400] \"GET /pub/job/vk/view17.jpg HTTP/1.0\" 200 5944                  |\n",
      "+------------------------------------------------------------------------------------------------------------------+\n",
      "only showing top 5 rows\n",
      "\n"
     ]
    }
   ],
   "source": [
    "# Read .gz log files and show first 5 lines\n",
    "logs = spark.read.text(\"s3://<bucket>/datasets/Downloaded/ApacheLogFiles\")\n",
    "logs.show(5, truncate=False)"
   ]
  },
  {
   "cell_type": "markdown",
   "metadata": {},
   "source": [
    "The logs are in common log format:\n",
    "<html>\n",
    "    <style>\n",
    "        table, th, td {\n",
    "        border: 1px solid black;\n",
    "        },\n",
    "        td {\n",
    "        text-align: left;\n",
    "        }\n",
    "    </style>\n",
    "    <table style=\"width:100%\">\n",
    "    <tr>\n",
    "        <th style=\"text-align:center\">Field</th>\n",
    "        <th style=\"text-align:center\">Definition</th> \n",
    "    </tr>\n",
    "    <tr>\n",
    "        <td>remotehost</td>\n",
    "        <td>Hostname or IP address of the client</td>\n",
    "    </tr>\n",
    "    <tr>\n",
    "        <td>rfc931</td>\n",
    "        <td>Remote logname of the client</td>\n",
    "    </tr>\n",
    "    <tr>\n",
    "        <td>authuser</td>\n",
    "        <td>username of the remote client</td>\n",
    "    </tr>\n",
    "    <tr>\n",
    "        <td>date</td>\n",
    "        <td>Date and time the request was processed by webserver</td>\n",
    "    </tr>\n",
    "    <tr>\n",
    "        <td>request</td>\n",
    "        <td>The page requested</td>\n",
    "    </tr>\n",
    "    <tr>\n",
    "        <td>status</td>\n",
    "        <td>HTTP status code</td>\n",
    "    </tr>\n",
    "    <tr>\n",
    "        <td>bytes</td>\n",
    "        <td>The number of bytes transferred to the client</td>\n",
    "    </tr>\n",
    "</table>\n",
    "</html>"
   ]
  },
  {
   "cell_type": "markdown",
   "metadata": {},
   "source": [
    "Next, I will use regex to extract the fields from each line and create a column for each field. I will be ignoring rfc931 and authuser columns from the file as they only contain '-'. I will be making use of pythex.com to test the regex. "
   ]
  },
  {
   "cell_type": "code",
   "execution_count": 3,
   "metadata": {},
   "outputs": [
    {
     "name": "stdout",
     "output_type": "stream",
     "text": [
      "+-------------------+--------------------------+---------------------------------------------------------+-----------+------------+\n",
      "|remotehost         |timestamp                 |page_requested                                           |status_code|content_size|\n",
      "+-------------------+--------------------------+---------------------------------------------------------+-----------+------------+\n",
      "|204.249.225.59     |28/Aug/1995:00:00:34 -0400|\"GET /pub/rmharris/catalogs/dawsocat/intro.html HTTP/1.0\"|200        |3542        |\n",
      "|access9.accsyst.com|28/Aug/1995:00:00:35 -0400|\"GET /pub/robert/past99.gif HTTP/1.0\"                    |200        |4993        |\n",
      "|access9.accsyst.com|28/Aug/1995:00:00:35 -0400|\"GET /pub/robert/curr99.gif HTTP/1.0\"                    |200        |5836        |\n",
      "|world.std.com      |28/Aug/1995:00:00:36 -0400|\"GET /pub/atomicbk/catalog/sleazbk.html HTTP/1.0\"        |200        |18338       |\n",
      "|cssu24.cs.ust.hk   |28/Aug/1995:00:00:36 -0400|\"GET /pub/job/vk/view17.jpg HTTP/1.0\"                    |200        |5944        |\n",
      "+-------------------+--------------------------+---------------------------------------------------------+-----------+------------+\n",
      "only showing top 5 rows\n",
      "\n"
     ]
    }
   ],
   "source": [
    "from pyspark.sql.functions import split, regexp_extract\n",
    "logsDF = logs.select(regexp_extract('value', r'^([^\\s]+)', 1).alias('remotehost'),\n",
    "                    regexp_extract('value', r'^.*\\[(\\d\\d/\\w{3}/\\d{4}:\\d{2}:\\d{2}:\\d{2} -\\d{4})\\]', 1).alias('timestamp'),\n",
    "                    regexp_extract('value', r'^.*(\\\"\\w+\\s+([^\\s]+)\\sHTTP.*\")', 1).alias('page_requested'),\n",
    "                    regexp_extract('value', r'^.*(\"\\s+([^\\s]+))', 2).cast('integer').alias('status_code'),\n",
    "                    regexp_extract('value', r'^.*\\s+(\\d+)$', 1).cast('integer').alias('content_size'))\n",
    "\n",
    "logsDF.show(5, truncate=False)"
   ]
  },
  {
   "cell_type": "markdown",
   "metadata": {},
   "source": [
    "### Data Cleaning"
   ]
  },
  {
   "cell_type": "markdown",
   "metadata": {},
   "source": [
    "Checking to see if there are any null rows"
   ]
  },
  {
   "cell_type": "code",
   "execution_count": 4,
   "metadata": {},
   "outputs": [],
   "source": [
    "from pyspark.sql import Column\n",
    "\n",
    "def count_null(col_name):\n",
    "    return logsDF.filter(logsDF[col_name].isNull()).count()"
   ]
  },
  {
   "cell_type": "code",
   "execution_count": 5,
   "metadata": {},
   "outputs": [
    {
     "name": "stdout",
     "output_type": "stream",
     "text": [
      "remotehost : 0\n",
      "timestamp : 0\n",
      "page_requested : 0\n",
      "status_code : 100\n",
      "content_size : 274215\n"
     ]
    }
   ],
   "source": [
    "for col_name in logsDF.columns:\n",
    "    print(col_name + \" : \" + str(count_null(col_name)))"
   ]
  },
  {
   "cell_type": "markdown",
   "metadata": {},
   "source": [
    "It appears that we have some null values in column status_code and quite a few in column content_size. "
   ]
  },
  {
   "cell_type": "code",
   "execution_count": 6,
   "metadata": {},
   "outputs": [
    {
     "name": "stdout",
     "output_type": "stream",
     "text": [
      "+--------------------+--------------------+--------------+-----------+------------+\n",
      "|          remotehost|           timestamp|page_requested|status_code|content_size|\n",
      "+--------------------+--------------------+--------------+-----------+------------+\n",
      "|    rodan29.pixi.com|28/Aug/1995:07:34...|              |       null|        null|\n",
      "|dialup-4.austin.i...|28/Aug/1995:10:42...|              |       null|        null|\n",
      "|dialup-4.austin.i...|28/Aug/1995:10:48...|              |       null|        null|\n",
      "|      192.203.11.150|28/Aug/1995:12:02...|              |       null|        null|\n",
      "|         east.ge.com|28/Aug/1995:12:15...|              |       null|        null|\n",
      "+--------------------+--------------------+--------------+-----------+------------+\n",
      "only showing top 5 rows\n",
      "\n"
     ]
    }
   ],
   "source": [
    "logsDF.filter(logsDF['status_code'].isNull()).show(5)"
   ]
  },
  {
   "cell_type": "code",
   "execution_count": 7,
   "metadata": {},
   "outputs": [
    {
     "name": "stdout",
     "output_type": "stream",
     "text": [
      "+-------------------------------------------------------------------------------------------------------------------+\n",
      "|value                                                                                                              |\n",
      "+-------------------------------------------------------------------------------------------------------------------+\n",
      "|rodan29.pixi.com - - [28/Aug/1995:07:22:17 -0400] \"GET /pub/sshay/home.html HTTP/1.0\" 200 3145                     |\n",
      "|rodan29.pixi.com - - [28/Aug/1995:07:23:22 -0400] \"GET /pub/sshay/images/home6.gif HTTP/1.0\" 200 58652             |\n",
      "|rodan29.pixi.com - - [28/Aug/1995:07:34:01 -0400] \"GET /pub/wick HTTP/1.0\" 302 216                                 |\n",
      "|rodan29.pixi.com - - [28/Aug/1995:07:34:03 -0400] \"GET /pub/wick/                                                  |\n",
      "|rodan29.pixi.com - - [03/Sep/1995:19:54:32 -0400] \"GET /pub/phil/WinonaRyder.html HTTP/1.0\" 200 19870              |\n",
      "|rodan29.pixi.com - - [03/Sep/1995:19:54:41 -0400] \"GET /pub/phil/images/WinonaSheets-little.gif HTTP/1.0\" 200 33454|\n",
      "|rodan29.pixi.com - - [03/Sep/1995:19:55:16 -0400] \"GET /pub/phil/images/WinonaSheets-little.gif HTTP/1.0\" 200 33454|\n",
      "|rodan29.pixi.com - - [03/Sep/1995:19:55:16 -0400] \"GET /pub/phil/WinonaRyder.html HTTP/1.0\" 200 19870              |\n",
      "|rodan29.pixi.com - - [03/Sep/1995:19:55:27 -0400] \"GET /pub/phil/WinonaRyder.html HTTP/1.0\" 200 19870              |\n",
      "|rodan29.pixi.com - - [03/Sep/1995:19:55:41 -0400] \"GET /pub/phil/WinonaRyder.html HTTP/1.0\" 200 19870              |\n",
      "|rodan29.pixi.com - - [03/Sep/1995:19:55:42 -0400] \"GET /pub/phil/images/WinonaSheets-little.gif HTTP/1.0\" 200 33454|\n",
      "+-------------------------------------------------------------------------------------------------------------------+\n",
      "\n"
     ]
    }
   ],
   "source": [
    "# Checking against original logs to verify the values and determine whether parsing caused the null values. \n",
    "logs.filter(logs['value'].contains('rodan29.pixi.com')).show(truncate=False)"
   ]
  },
  {
   "cell_type": "markdown",
   "metadata": {},
   "source": [
    "It appears that one of the row is missing some data. It is missing half of the information for page requested and it is missing status code and content size transferred. Let's check one more to confirm if that is the issue.  "
   ]
  },
  {
   "cell_type": "code",
   "execution_count": 8,
   "metadata": {},
   "outputs": [
    {
     "name": "stdout",
     "output_type": "stream",
     "text": [
      "+----------------------------------------------------------------------------+\n",
      "|value                                                                       |\n",
      "+----------------------------------------------------------------------------+\n",
      "|192.203.11.150 - - [28/Aug/1995:12:02:38 -0400] \"GET /nrlc HTTP/1.0\" 302 212|\n",
      "|192.203.11.150 - - [28/Aug/1995:12:02:39 -0400] \"GET /nrlc/                 |\n",
      "+----------------------------------------------------------------------------+\n",
      "\n"
     ]
    }
   ],
   "source": [
    "logs.filter(logs['value'].contains('192.203.11.150')).show(truncate=False)"
   ]
  },
  {
   "cell_type": "markdown",
   "metadata": {},
   "source": [
    "Yep, it appears that we have some rows where the data is missing. Looking at the last two results, it appears that 302 (redirect) is causing this rows. "
   ]
  },
  {
   "cell_type": "markdown",
   "metadata": {},
   "source": [
    "Since, we do not have enough data to determine whether the redirect was successful (200) or bad request (500), we will remove these rows. "
   ]
  },
  {
   "cell_type": "code",
   "execution_count": 9,
   "metadata": {},
   "outputs": [],
   "source": [
    "clean_logs_df = logsDF.na.drop(subset = ['status_code'])"
   ]
  },
  {
   "cell_type": "code",
   "execution_count": 10,
   "metadata": {},
   "outputs": [
    {
     "data": {
      "text/plain": [
       "0"
      ]
     },
     "execution_count": 10,
     "metadata": {},
     "output_type": "execute_result"
    }
   ],
   "source": [
    "clean_logs_df.filter(clean_logs_df['status_code'].isNull()).count()"
   ]
  },
  {
   "cell_type": "markdown",
   "metadata": {},
   "source": [
    "Now, with regards to the content size having null values. Let's display 5 lines from clean_logs_df where content-size is null. "
   ]
  },
  {
   "cell_type": "code",
   "execution_count": 11,
   "metadata": {},
   "outputs": [
    {
     "name": "stdout",
     "output_type": "stream",
     "text": [
      "+------------------+--------------------------+------------------------------------+-----------+------------+\n",
      "|remotehost        |timestamp                 |page_requested                      |status_code|content_size|\n",
      "+------------------+--------------------------+------------------------------------+-----------+------------+\n",
      "|ppp19.glas.apc.org|28/Aug/1995:00:00:43 -0400|\"GET /atomicbk/ HTTP/1.0\"           |304        |null        |\n",
      "|ppp19.glas.apc.org|28/Aug/1995:00:00:43 -0400|\"GET /atomicbk/contest.gif HTTP/1.0\"|304        |null        |\n",
      "|ppp19.glas.apc.org|28/Aug/1995:00:00:44 -0400|\"GET /atomicbk/artgal.gif HTTP/1.0\" |304        |null        |\n",
      "|ppp19.glas.apc.org|28/Aug/1995:00:00:44 -0400|\"GET /atomicbk/email.gif HTTP/1.0\"  |304        |null        |\n",
      "|ppp19.glas.apc.org|28/Aug/1995:00:00:45 -0400|\"GET /atomicbk/promo.gif HTTP/1.0\"  |304        |null        |\n",
      "+------------------+--------------------------+------------------------------------+-----------+------------+\n",
      "only showing top 5 rows\n",
      "\n"
     ]
    }
   ],
   "source": [
    "clean_logs_df.filter(clean_logs_df['content_size'].isNull()).show(5, truncate=False)"
   ]
  },
  {
   "cell_type": "code",
   "execution_count": 12,
   "metadata": {},
   "outputs": [
    {
     "name": "stdout",
     "output_type": "stream",
     "text": [
      "+----------------------------------------------------------------------------------------------+\n",
      "|value                                                                                         |\n",
      "+----------------------------------------------------------------------------------------------+\n",
      "|ppp19.glas.apc.org - - [28/Aug/1995:00:00:43 -0400] \"GET /atomicbk/ HTTP/1.0\" 304 -           |\n",
      "|ppp19.glas.apc.org - - [28/Aug/1995:00:00:43 -0400] \"GET /atomicbk/contest.gif HTTP/1.0\" 304 -|\n",
      "+----------------------------------------------------------------------------------------------+\n",
      "\n"
     ]
    }
   ],
   "source": [
    "logs.filter(logs['value'].contains('28/Aug/1995:00:00:43 -0400')).show(truncate=False)"
   ]
  },
  {
   "cell_type": "markdown",
   "metadata": {},
   "source": [
    "It appears that they have '-' instead of any digit which is what regex is expecting. Since, there is - we can safely replace it with value 0. "
   ]
  },
  {
   "cell_type": "code",
   "execution_count": 13,
   "metadata": {},
   "outputs": [
    {
     "data": {
      "text/plain": [
       "0"
      ]
     },
     "execution_count": 13,
     "metadata": {},
     "output_type": "execute_result"
    }
   ],
   "source": [
    "# Fill null value with 0\n",
    "clean_logs_df = clean_logs_df.na.fill(0)\n",
    "\n",
    "# Check if we have anymore null values\n",
    "clean_logs_df.filter(clean_logs_df['content_size'].isNull()).count()"
   ]
  },
  {
   "cell_type": "markdown",
   "metadata": {},
   "source": [
    "### Data Visualization"
   ]
  },
  {
   "cell_type": "markdown",
   "metadata": {},
   "source": [
    "we will try to visualize the number of requests by status code. "
   ]
  },
  {
   "cell_type": "code",
   "execution_count": 14,
   "metadata": {},
   "outputs": [],
   "source": [
    "status_code_df = clean_logs_df.groupby('status_code').count()\n"
   ]
  },
  {
   "cell_type": "code",
   "execution_count": 18,
   "metadata": {},
   "outputs": [
    {
     "data": {
      "text/html": [
       "<div>\n",
       "<style scoped>\n",
       "    .dataframe tbody tr th:only-of-type {\n",
       "        vertical-align: middle;\n",
       "    }\n",
       "\n",
       "    .dataframe tbody tr th {\n",
       "        vertical-align: top;\n",
       "    }\n",
       "\n",
       "    .dataframe thead th {\n",
       "        text-align: right;\n",
       "    }\n",
       "</style>\n",
       "<table border=\"1\" class=\"dataframe\">\n",
       "  <thead>\n",
       "    <tr style=\"text-align: right;\">\n",
       "      <th></th>\n",
       "      <th>status_code</th>\n",
       "      <th>count</th>\n",
       "    </tr>\n",
       "  </thead>\n",
       "  <tbody>\n",
       "    <tr>\n",
       "      <th>0</th>\n",
       "      <td>500</td>\n",
       "      <td>2050</td>\n",
       "    </tr>\n",
       "    <tr>\n",
       "      <th>1</th>\n",
       "      <td>403</td>\n",
       "      <td>2425</td>\n",
       "    </tr>\n",
       "    <tr>\n",
       "      <th>2</th>\n",
       "      <td>404</td>\n",
       "      <td>70927</td>\n",
       "    </tr>\n",
       "    <tr>\n",
       "      <th>3</th>\n",
       "      <td>200</td>\n",
       "      <td>2955038</td>\n",
       "    </tr>\n",
       "    <tr>\n",
       "      <th>4</th>\n",
       "      <td>304</td>\n",
       "      <td>268742</td>\n",
       "    </tr>\n",
       "    <tr>\n",
       "      <th>5</th>\n",
       "      <td>204</td>\n",
       "      <td>368</td>\n",
       "    </tr>\n",
       "    <tr>\n",
       "      <th>6</th>\n",
       "      <td>302</td>\n",
       "      <td>29082</td>\n",
       "    </tr>\n",
       "  </tbody>\n",
       "</table>\n",
       "</div>"
      ],
      "text/plain": [
       "   status_code    count\n",
       "0          500     2050\n",
       "1          403     2425\n",
       "2          404    70927\n",
       "3          200  2955038\n",
       "4          304   268742\n",
       "5          204      368\n",
       "6          302    29082"
      ]
     },
     "execution_count": 18,
     "metadata": {},
     "output_type": "execute_result"
    }
   ],
   "source": [
    "status_code_pd_df = status_code_df.toPandas()\n",
    "status_code_pd_df"
   ]
  },
  {
   "cell_type": "code",
   "execution_count": 19,
   "metadata": {},
   "outputs": [],
   "source": [
    "import matplotlib.pyplot as plt\n",
    "import seaborn as sns\n",
    "sns.axes_style('white')\n",
    "sns.set_style('white')"
   ]
  },
  {
   "cell_type": "code",
   "execution_count": 24,
   "metadata": {},
   "outputs": [
    {
     "data": {
      "text/plain": [
       "<matplotlib.axes._subplots.AxesSubplot at 0x7fbd74f0c9e8>"
      ]
     },
     "execution_count": 24,
     "metadata": {},
     "output_type": "execute_result"
    },
    {
     "data": {
      "image/png": "[encoded data removed]",
      "text/plain": [
       "<matplotlib.figure.Figure at 0x7fbd72c1fcc0>"
      ]
     },
     "metadata": {},
     "output_type": "display_data"
    }
   ],
   "source": [
    "plt.figure(figsize=(16,5))\n",
    "sns.barplot(status_code_pd_df['status_code'],status_code_pd_df['count'])"
   ]
  },
  {
   "cell_type": "markdown",
   "metadata": {},
   "source": [
    "Let's get a list of top 10 pages"
   ]
  },
  {
   "cell_type": "code",
   "execution_count": 26,
   "metadata": {},
   "outputs": [
    {
     "name": "stdout",
     "output_type": "stream",
     "text": [
      "+--------------------------------------------------+-----+\n",
      "|page_requested                                    |count|\n",
      "+--------------------------------------------------+-----+\n",
      "|\"GET /pub/journalism/awesome.html HTTP/1.0\"       |34717|\n",
      "|\"GET /pub/job/vk/vendela.html HTTP/1.0\"           |27194|\n",
      "|\"GET /pub/atomicbk/catalog/sleazbk.html HTTP/1.0\" |20785|\n",
      "|\"GET /pub/atomicbk/catalog/erotica.html HTTP/1.0\" |8550 |\n",
      "|\"GET /pub/jeffd/index.html HTTP/1.0\"              |8514 |\n",
      "|\"GET /atomicbk/catalog/catalog.html HTTP/1.0\"     |8070 |\n",
      "|\"GET /pub/atomicbk/catalog/adultcom.html HTTP/1.0\"|7725 |\n",
      "|\"GET /html/usage/usage.graph.small.gif HTTP/1.0\"  |7117 |\n",
      "|\"GET /pub/sshay/gallery.html HTTP/1.0\"            |6541 |\n",
      "|\"GET /pub/job/swim/swim.html HTTP/1.0\"            |5808 |\n",
      "+--------------------------------------------------+-----+\n",
      "only showing top 10 rows\n",
      "\n"
     ]
    }
   ],
   "source": [
    "from pyspark.sql.functions import desc\n",
    "top_10_pages = clean_logs_df.filter(clean_logs_df['page_requested'].rlike('html')).groupby('page_requested') \\\n",
    "                .count() \\\n",
    "                .sort(desc('count'))\n",
    "top_10_pages.show(10, truncate=False)"
   ]
  },
  {
   "cell_type": "code",
   "execution_count": 28,
   "metadata": {},
   "outputs": [
    {
     "data": {
      "text/html": [
       "<div>\n",
       "<style scoped>\n",
       "    .dataframe tbody tr th:only-of-type {\n",
       "        vertical-align: middle;\n",
       "    }\n",
       "\n",
       "    .dataframe tbody tr th {\n",
       "        vertical-align: top;\n",
       "    }\n",
       "\n",
       "    .dataframe thead th {\n",
       "        text-align: right;\n",
       "    }\n",
       "</style>\n",
       "<table border=\"1\" class=\"dataframe\">\n",
       "  <thead>\n",
       "    <tr style=\"text-align: right;\">\n",
       "      <th></th>\n",
       "      <th>page_requested</th>\n",
       "      <th>count</th>\n",
       "    </tr>\n",
       "  </thead>\n",
       "  <tbody>\n",
       "    <tr>\n",
       "      <th>0</th>\n",
       "      <td>\"GET /pub/journalism/awesome.html HTTP/1.0\"</td>\n",
       "      <td>34717</td>\n",
       "    </tr>\n",
       "    <tr>\n",
       "      <th>1</th>\n",
       "      <td>\"GET /pub/job/vk/vendela.html HTTP/1.0\"</td>\n",
       "      <td>27194</td>\n",
       "    </tr>\n",
       "    <tr>\n",
       "      <th>2</th>\n",
       "      <td>\"GET /pub/atomicbk/catalog/sleazbk.html HTTP/1.0\"</td>\n",
       "      <td>20785</td>\n",
       "    </tr>\n",
       "    <tr>\n",
       "      <th>3</th>\n",
       "      <td>\"GET /pub/atomicbk/catalog/erotica.html HTTP/1.0\"</td>\n",
       "      <td>8550</td>\n",
       "    </tr>\n",
       "    <tr>\n",
       "      <th>4</th>\n",
       "      <td>\"GET /pub/jeffd/index.html HTTP/1.0\"</td>\n",
       "      <td>8514</td>\n",
       "    </tr>\n",
       "    <tr>\n",
       "      <th>5</th>\n",
       "      <td>\"GET /atomicbk/catalog/catalog.html HTTP/1.0\"</td>\n",
       "      <td>8070</td>\n",
       "    </tr>\n",
       "    <tr>\n",
       "      <th>6</th>\n",
       "      <td>\"GET /pub/atomicbk/catalog/adultcom.html HTTP/...</td>\n",
       "      <td>7725</td>\n",
       "    </tr>\n",
       "    <tr>\n",
       "      <th>7</th>\n",
       "      <td>\"GET /html/usage/usage.graph.small.gif HTTP/1.0\"</td>\n",
       "      <td>7117</td>\n",
       "    </tr>\n",
       "    <tr>\n",
       "      <th>8</th>\n",
       "      <td>\"GET /pub/sshay/gallery.html HTTP/1.0\"</td>\n",
       "      <td>6541</td>\n",
       "    </tr>\n",
       "    <tr>\n",
       "      <th>9</th>\n",
       "      <td>\"GET /pub/job/swim/swim.html HTTP/1.0\"</td>\n",
       "      <td>5808</td>\n",
       "    </tr>\n",
       "  </tbody>\n",
       "</table>\n",
       "</div>"
      ],
      "text/plain": [
       "                                      page_requested  count\n",
       "0        \"GET /pub/journalism/awesome.html HTTP/1.0\"  34717\n",
       "1            \"GET /pub/job/vk/vendela.html HTTP/1.0\"  27194\n",
       "2  \"GET /pub/atomicbk/catalog/sleazbk.html HTTP/1.0\"  20785\n",
       "3  \"GET /pub/atomicbk/catalog/erotica.html HTTP/1.0\"   8550\n",
       "4               \"GET /pub/jeffd/index.html HTTP/1.0\"   8514\n",
       "5      \"GET /atomicbk/catalog/catalog.html HTTP/1.0\"   8070\n",
       "6  \"GET /pub/atomicbk/catalog/adultcom.html HTTP/...   7725\n",
       "7   \"GET /html/usage/usage.graph.small.gif HTTP/1.0\"   7117\n",
       "8             \"GET /pub/sshay/gallery.html HTTP/1.0\"   6541\n",
       "9             \"GET /pub/job/swim/swim.html HTTP/1.0\"   5808"
      ]
     },
     "execution_count": 28,
     "metadata": {},
     "output_type": "execute_result"
    }
   ],
   "source": [
    "top_10_pages_pd = top_10_pages.toPandas()\n",
    "top_10_pages_pd.head(10)"
   ]
  },
  {
   "cell_type": "code",
   "execution_count": null,
   "metadata": {},
   "outputs": [],
   "source": []
  }
 ],
 "metadata": {
  "kernelspec": {
   "display_name": "Python 3",
   "language": "python",
   "name": "python3"
  }
 },
 "nbformat": 4,
 "nbformat_minor": 2
}
