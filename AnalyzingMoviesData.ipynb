{
 "cells": [
  {
   "cell_type": "markdown",
   "metadata": {},
   "source": [
    "The purpose of this notebook is to analyze movies data downloaded from http://grouplens.org/datasets/movielens."
   ]
  },
  {
   "cell_type": "code",
   "execution_count": 10,
   "metadata": {},
   "outputs": [],
   "source": [
    "# Create spark session. \n",
    "from pyspark.sql import SparkSession\n",
    "spark = SparkSession \\\n",
    "    .builder \\\n",
    "    .appName('Analyzing Movies dataset') \\\n",
    "    .config(conf=SparkConf()) \\\n",
    "    .getOrCreate()"
   ]
  },
  {
   "cell_type": "code",
   "execution_count": 11,
   "metadata": {},
   "outputs": [
    {
     "name": "stdout",
     "output_type": "stream",
     "text": [
      "2018-01-07 02:47:21  214322450 genome_scores.csv\r\n",
      "2018-01-07 02:47:21      20363 genome_tags.csv\r\n",
      "2018-01-07 02:47:21     539334 link.csv\r\n",
      "2018-01-07 02:47:21    1493648 movie.csv\r\n",
      "2018-01-07 02:48:15  206249888 movielens-20m-dataset.zip\r\n",
      "2018-01-07 02:47:21  690353377 rating.csv\r\n",
      "2018-01-07 02:47:21   21725514 tag.csv\r\n"
     ]
    }
   ],
   "source": [
    "!aws s3 ls s3://athena-chadderw/datasets/Downloaded/movielens/"
   ]
  },
  {
   "cell_type": "code",
   "execution_count": 21,
   "metadata": {},
   "outputs": [
    {
     "name": "stdout",
     "output_type": "stream",
     "text": [
      "+-------+----------------------------------+-------------------------------------------+\n",
      "|movieId|title                             |genres                                     |\n",
      "+-------+----------------------------------+-------------------------------------------+\n",
      "|1      |Toy Story (1995)                  |Adventure|Animation|Children|Comedy|Fantasy|\n",
      "|2      |Jumanji (1995)                    |Adventure|Children|Fantasy                 |\n",
      "|3      |Grumpier Old Men (1995)           |Comedy|Romance                             |\n",
      "|4      |Waiting to Exhale (1995)          |Comedy|Drama|Romance                       |\n",
      "|5      |Father of the Bride Part II (1995)|Comedy                                     |\n",
      "+-------+----------------------------------+-------------------------------------------+\n",
      "only showing top 5 rows\n",
      "\n",
      "+------+-------+------+-------------------+\n",
      "|userId|movieId|rating|timestamp          |\n",
      "+------+-------+------+-------------------+\n",
      "|1     |2      |3.5   |2005-04-02 23:53:47|\n",
      "|1     |29     |3.5   |2005-04-02 23:31:16|\n",
      "|1     |32     |3.5   |2005-04-02 23:33:39|\n",
      "|1     |47     |3.5   |2005-04-02 23:32:07|\n",
      "|1     |50     |3.5   |2005-04-02 23:29:40|\n",
      "+------+-------+------+-------------------+\n",
      "only showing top 5 rows\n",
      "\n",
      "+-------+-----+---------+\n",
      "|movieId|tagId|relevance|\n",
      "+-------+-----+---------+\n",
      "|1      |1    |0.025    |\n",
      "|1      |2    |0.025    |\n",
      "|1      |3    |0.05775  |\n",
      "|1      |4    |0.09675  |\n",
      "|1      |5    |0.14675  |\n",
      "+-------+-----+---------+\n",
      "only showing top 5 rows\n",
      "\n",
      "+-----+------------+\n",
      "|tagId|tag         |\n",
      "+-----+------------+\n",
      "|1    |007         |\n",
      "|2    |007 (series)|\n",
      "|3    |18th century|\n",
      "|4    |1920s       |\n",
      "|5    |1930s       |\n",
      "+-----+------------+\n",
      "only showing top 5 rows\n",
      "\n",
      "+------+-------+-------------+-------------------+\n",
      "|userId|movieId|tag          |timestamp          |\n",
      "+------+-------+-------------+-------------------+\n",
      "|18    |4141   |Mark Waters  |2009-04-24 18:19:40|\n",
      "|65    |208    |dark hero    |2013-05-10 01:41:18|\n",
      "|65    |353    |dark hero    |2013-05-10 01:41:19|\n",
      "|65    |521    |noir thriller|2013-05-10 01:39:43|\n",
      "|65    |592    |dark hero    |2013-05-10 01:41:18|\n",
      "+------+-------+-------------+-------------------+\n",
      "only showing top 5 rows\n",
      "\n"
     ]
    }
   ],
   "source": [
    "# setup the data directory to begin loading CSV files into spark\n",
    "data_dir = 's3://athena-chadderw/datasets/Downloaded/movielens/'\n",
    "\n",
    "moviesDF = spark.read.format(\"csv\").option('header', 'True').load(data_dir + 'movie.csv')\n",
    "ratingDF = spark.read.format(\"csv\").option('header', 'True').load(data_dir + 'rating.csv')\n",
    "genome_scores_DF = spark.read.format(\"csv\").option('header', 'True').load(data_dir + 'genome_scores.csv')\n",
    "genome_tags_DF = spark.read.format(\"csv\").option('header', 'True').load(data_dir + 'genome_tags.csv')\n",
    "tagsDF = spark.read.format(\"csv\").option('header', \"True\").load(data_dir + 'tag.csv')\n",
    "moviesDF.show(5, truncate=False)\n",
    "ratingDF.show(5, truncate=False)\n",
    "genome_scores_DF.show(5, truncate=False)\n",
    "genome_tags_DF.show(5, truncate=False)\n",
    "tagsDF.show(5, truncate=False)"
   ]
  },
  {
   "cell_type": "code",
   "execution_count": 13,
   "metadata": {},
   "outputs": [
    {
     "name": "stdout",
     "output_type": "stream",
     "text": [
      "root\n",
      " |-- movieId: string (nullable = true)\n",
      " |-- title: string (nullable = true)\n",
      " |-- genres: string (nullable = true)\n",
      "\n"
     ]
    }
   ],
   "source": [
    "moviesDF.printSchema()"
   ]
  },
  {
   "cell_type": "code",
   "execution_count": 14,
   "metadata": {},
   "outputs": [
    {
     "name": "stdout",
     "output_type": "stream",
     "text": [
      "root\n",
      " |-- userId: string (nullable = true)\n",
      " |-- movieId: string (nullable = true)\n",
      " |-- rating: string (nullable = true)\n",
      " |-- timestamp: string (nullable = true)\n",
      "\n"
     ]
    }
   ],
   "source": [
    "ratingDF.printSchema()"
   ]
  },
  {
   "cell_type": "markdown",
   "metadata": {},
   "source": [
    "We need to convert movieID, userId, rating from String to Integer and timestamp to datetime format.  "
   ]
  },
  {
   "cell_type": "code",
   "execution_count": 20,
   "metadata": {},
   "outputs": [
    {
     "ename": "SyntaxError",
     "evalue": "invalid syntax (<ipython-input-20-a9e23df1c10c>, line 3)",
     "output_type": "error",
     "traceback": [
      "\u001b[0;36m  File \u001b[0;32m\"<ipython-input-20-a9e23df1c10c>\"\u001b[0;36m, line \u001b[0;32m3\u001b[0m\n\u001b[0;31m    moviesDF = moviesDF.select($\"movieId\".cast(\"Integer\"))\u001b[0m\n\u001b[0m                               ^\u001b[0m\n\u001b[0;31mSyntaxError\u001b[0m\u001b[0;31m:\u001b[0m invalid syntax\n"
     ]
    }
   ],
   "source": [
    "from pyspark.sql.functions import expr\n",
    "#moviesDF = moviesDF.select('movieId', expr(int('movieId')))\n",
    "moviesDF = moviesDF.select($\"movieId\".cast(\"Integer\"))\n",
    "moviesDF.printSchema()"
   ]
  },
  {
   "cell_type": "code",
   "execution_count": null,
   "metadata": {},
   "outputs": [],
   "source": []
  }
 ],
 "metadata": {
  "kernelspec": {
   "display_name": "Python 3",
   "language": "python",
   "name": "python3"
  },
  "language_info": {
   "codemirror_mode": {
    "name": "ipython",
    "version": 3
   },
   "file_extension": ".py",
   "mimetype": "text/x-python",
   "name": "python",
   "nbconvert_exporter": "python",
   "pygments_lexer": "ipython3",
   "version": "3.4.3"
  }
 },
 "nbformat": 4,
 "nbformat_minor": 2
}
